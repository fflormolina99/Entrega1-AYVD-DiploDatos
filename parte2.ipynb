{
 "cells": [
  {
   "cell_type": "markdown",
   "metadata": {},
   "source": [
    "\n",
    "**Diplomatura en Ciencia de Datos, Aprendizaje Automático y sus Aplicaciones**\n",
    "\n",
    "**Edición 2022**\n",
    "\n",
    "---\n",
    "\n",
    "# Trabajo práctico entregable - Parte 2"
   ]
  },
  {
   "cell_type": "code",
   "execution_count": 1,
   "metadata": {},
   "outputs": [],
   "source": [
    "import io\n",
    "import matplotlib\n",
    "import matplotlib.pyplot as plt\n",
    "import numpy\n",
    "import pandas as pd\n",
    "import seaborn\n",
    "import math\n",
    "import scipy as sp\n",
    "seaborn.set_context('talk')"
   ]
  },
  {
   "cell_type": "markdown",
   "metadata": {
    "id": "XY2Hl-Ma07Nn"
   },
   "source": [
    "## Lectura del dataset\n",
    "\n",
    "En la notebook 00 se explican los detalles de la siguiente sección."
   ]
  },
  {
   "cell_type": "code",
   "execution_count": 2,
   "metadata": {
    "id": "Vviv_sqXdR5W"
   },
   "outputs": [],
   "source": [
    "url = 'https://cs.famaf.unc.edu.ar/~mteruel/datasets/diplodatos/sysarmy_survey_2020_processed.csv'\n",
    "df = pd.read_csv(url)"
   ]
  },
  {
   "cell_type": "code",
   "execution_count": 3,
   "metadata": {
    "colab": {
     "base_uri": "https://localhost:8080/",
     "height": 297
    },
    "id": "gckNHXXLktJ4",
    "outputId": "8a359f96-42c3-442d-b73f-dbd453369435"
   },
   "outputs": [
    {
     "data": {
      "text/html": [
       "<div>\n",
       "<style scoped>\n",
       "    .dataframe tbody tr th:only-of-type {\n",
       "        vertical-align: middle;\n",
       "    }\n",
       "\n",
       "    .dataframe tbody tr th {\n",
       "        vertical-align: top;\n",
       "    }\n",
       "\n",
       "    .dataframe thead th {\n",
       "        text-align: right;\n",
       "    }\n",
       "</style>\n",
       "<table border=\"1\" class=\"dataframe\">\n",
       "  <thead>\n",
       "    <tr style=\"text-align: right;\">\n",
       "      <th></th>\n",
       "      <th>profile_gender</th>\n",
       "      <th>profile_age</th>\n",
       "      <th>work_country</th>\n",
       "      <th>work_province</th>\n",
       "      <th>profile_years_experience</th>\n",
       "      <th>work_years_in_company</th>\n",
       "      <th>work_years_in_current_position</th>\n",
       "      <th>work_people_in_charge_of</th>\n",
       "      <th>profile_studies_level</th>\n",
       "      <th>profile_studies_level_state</th>\n",
       "      <th>...</th>\n",
       "      <th>work_has_violence_situations</th>\n",
       "      <th>profile_sexual_orientation</th>\n",
       "      <th>profile_has_disabilities</th>\n",
       "      <th>profile_has_disabilities_hiring_difficulties</th>\n",
       "      <th>company_employee_number</th>\n",
       "      <th>company_main_activity</th>\n",
       "      <th>company_recommended</th>\n",
       "      <th>company_diversity_policies</th>\n",
       "      <th>company_extra_benefits</th>\n",
       "      <th>company_best_companies_city</th>\n",
       "    </tr>\n",
       "  </thead>\n",
       "  <tbody>\n",
       "    <tr>\n",
       "      <th>0</th>\n",
       "      <td>Mujer</td>\n",
       "      <td>26</td>\n",
       "      <td>Argentina</td>\n",
       "      <td>Ciudad Autónoma de Buenos Aires</td>\n",
       "      <td>3.0</td>\n",
       "      <td>3.0</td>\n",
       "      <td>3.0</td>\n",
       "      <td>0</td>\n",
       "      <td>Universitario</td>\n",
       "      <td>En curso</td>\n",
       "      <td>...</td>\n",
       "      <td>En mi trabajo actual</td>\n",
       "      <td>Homosexual</td>\n",
       "      <td>NaN</td>\n",
       "      <td>NaN</td>\n",
       "      <td>501-1000</td>\n",
       "      <td>Servicios / Consultoría de Software / Digital</td>\n",
       "      <td>7</td>\n",
       "      <td>2</td>\n",
       "      <td>Capacitaciones y/o cursos, Comidas pagas / sub...</td>\n",
       "      <td>NaN</td>\n",
       "    </tr>\n",
       "    <tr>\n",
       "      <th>1</th>\n",
       "      <td>Hombre</td>\n",
       "      <td>29</td>\n",
       "      <td>Argentina</td>\n",
       "      <td>Corrientes</td>\n",
       "      <td>5.0</td>\n",
       "      <td>2.0</td>\n",
       "      <td>2.0</td>\n",
       "      <td>4</td>\n",
       "      <td>Universitario</td>\n",
       "      <td>En curso</td>\n",
       "      <td>...</td>\n",
       "      <td>Jamás</td>\n",
       "      <td>Heterosexual</td>\n",
       "      <td>Visual</td>\n",
       "      <td>No</td>\n",
       "      <td>201-500</td>\n",
       "      <td>Otras industrias</td>\n",
       "      <td>8</td>\n",
       "      <td>9</td>\n",
       "      <td>Horarios flexibles, Stock options / RSUs, Viát...</td>\n",
       "      <td>NaN</td>\n",
       "    </tr>\n",
       "    <tr>\n",
       "      <th>2</th>\n",
       "      <td>Mujer</td>\n",
       "      <td>22</td>\n",
       "      <td>Argentina</td>\n",
       "      <td>Ciudad Autónoma de Buenos Aires</td>\n",
       "      <td>2.0</td>\n",
       "      <td>0.0</td>\n",
       "      <td>0.0</td>\n",
       "      <td>0</td>\n",
       "      <td>Secundario</td>\n",
       "      <td>Completado</td>\n",
       "      <td>...</td>\n",
       "      <td>En un trabajo anterior</td>\n",
       "      <td>Bisexual o queer</td>\n",
       "      <td>NaN</td>\n",
       "      <td>No</td>\n",
       "      <td>2001-5000</td>\n",
       "      <td>Otras industrias</td>\n",
       "      <td>6</td>\n",
       "      <td>9</td>\n",
       "      <td>Clases de gimnasia online, Comidas pagas / sub...</td>\n",
       "      <td>NaN</td>\n",
       "    </tr>\n",
       "  </tbody>\n",
       "</table>\n",
       "<p>3 rows × 48 columns</p>\n",
       "</div>"
      ],
      "text/plain": [
       "  profile_gender  profile_age work_country                    work_province  \\\n",
       "0          Mujer           26    Argentina  Ciudad Autónoma de Buenos Aires   \n",
       "1         Hombre           29    Argentina                       Corrientes   \n",
       "2          Mujer           22    Argentina  Ciudad Autónoma de Buenos Aires   \n",
       "\n",
       "   profile_years_experience  work_years_in_company  \\\n",
       "0                       3.0                    3.0   \n",
       "1                       5.0                    2.0   \n",
       "2                       2.0                    0.0   \n",
       "\n",
       "   work_years_in_current_position  work_people_in_charge_of  \\\n",
       "0                             3.0                         0   \n",
       "1                             2.0                         4   \n",
       "2                             0.0                         0   \n",
       "\n",
       "  profile_studies_level profile_studies_level_state  ...  \\\n",
       "0         Universitario                    En curso  ...   \n",
       "1         Universitario                    En curso  ...   \n",
       "2            Secundario                  Completado  ...   \n",
       "\n",
       "  work_has_violence_situations profile_sexual_orientation  \\\n",
       "0         En mi trabajo actual                 Homosexual   \n",
       "1                        Jamás               Heterosexual   \n",
       "2       En un trabajo anterior           Bisexual o queer   \n",
       "\n",
       "  profile_has_disabilities profile_has_disabilities_hiring_difficulties  \\\n",
       "0                      NaN                                          NaN   \n",
       "1                   Visual                                           No   \n",
       "2                      NaN                                           No   \n",
       "\n",
       "  company_employee_number                          company_main_activity  \\\n",
       "0                501-1000  Servicios / Consultoría de Software / Digital   \n",
       "1                 201-500                               Otras industrias   \n",
       "2               2001-5000                               Otras industrias   \n",
       "\n",
       "  company_recommended company_diversity_policies  \\\n",
       "0                   7                          2   \n",
       "1                   8                          9   \n",
       "2                   6                          9   \n",
       "\n",
       "                              company_extra_benefits  \\\n",
       "0  Capacitaciones y/o cursos, Comidas pagas / sub...   \n",
       "1  Horarios flexibles, Stock options / RSUs, Viát...   \n",
       "2  Clases de gimnasia online, Comidas pagas / sub...   \n",
       "\n",
       "  company_best_companies_city  \n",
       "0                         NaN  \n",
       "1                         NaN  \n",
       "2                         NaN  \n",
       "\n",
       "[3 rows x 48 columns]"
      ]
     },
     "execution_count": 3,
     "metadata": {},
     "output_type": "execute_result"
    }
   ],
   "source": [
    "df[:3]"
   ]
  },
  {
   "cell_type": "code",
   "execution_count": 4,
   "metadata": {
    "colab": {
     "base_uri": "https://localhost:8080/",
     "height": 203
    },
    "id": "2lzmzK1NuPNT",
    "outputId": "41e0e478-b95b-4dc4-a390-902bd50a8ce3"
   },
   "outputs": [
    {
     "data": {
      "text/html": [
       "<div>\n",
       "<style scoped>\n",
       "    .dataframe tbody tr th:only-of-type {\n",
       "        vertical-align: middle;\n",
       "    }\n",
       "\n",
       "    .dataframe tbody tr th {\n",
       "        vertical-align: top;\n",
       "    }\n",
       "\n",
       "    .dataframe thead tr th {\n",
       "        text-align: left;\n",
       "    }\n",
       "\n",
       "    .dataframe thead tr:last-of-type th {\n",
       "        text-align: right;\n",
       "    }\n",
       "</style>\n",
       "<table border=\"1\" class=\"dataframe\">\n",
       "  <thead>\n",
       "    <tr>\n",
       "      <th></th>\n",
       "      <th colspan=\"8\" halign=\"left\">salary_monthly_NETO</th>\n",
       "    </tr>\n",
       "    <tr>\n",
       "      <th></th>\n",
       "      <th>count</th>\n",
       "      <th>mean</th>\n",
       "      <th>std</th>\n",
       "      <th>min</th>\n",
       "      <th>25%</th>\n",
       "      <th>50%</th>\n",
       "      <th>75%</th>\n",
       "      <th>max</th>\n",
       "    </tr>\n",
       "    <tr>\n",
       "      <th>profile_gender</th>\n",
       "      <th></th>\n",
       "      <th></th>\n",
       "      <th></th>\n",
       "      <th></th>\n",
       "      <th></th>\n",
       "      <th></th>\n",
       "      <th></th>\n",
       "      <th></th>\n",
       "    </tr>\n",
       "  </thead>\n",
       "  <tbody>\n",
       "    <tr>\n",
       "      <th>Hombre</th>\n",
       "      <td>4944.0</td>\n",
       "      <td>98836.063558</td>\n",
       "      <td>102159.664237</td>\n",
       "      <td>1.0</td>\n",
       "      <td>53285.0</td>\n",
       "      <td>80000.0</td>\n",
       "      <td>110000.0</td>\n",
       "      <td>2080000.0</td>\n",
       "    </tr>\n",
       "    <tr>\n",
       "      <th>Mujer</th>\n",
       "      <td>908.0</td>\n",
       "      <td>73501.414465</td>\n",
       "      <td>56256.880181</td>\n",
       "      <td>2.0</td>\n",
       "      <td>43818.0</td>\n",
       "      <td>65000.0</td>\n",
       "      <td>92000.0</td>\n",
       "      <td>800000.0</td>\n",
       "    </tr>\n",
       "    <tr>\n",
       "      <th>Otros</th>\n",
       "      <td>31.0</td>\n",
       "      <td>95441.354839</td>\n",
       "      <td>88635.674358</td>\n",
       "      <td>40.0</td>\n",
       "      <td>39500.0</td>\n",
       "      <td>74000.0</td>\n",
       "      <td>117500.0</td>\n",
       "      <td>380000.0</td>\n",
       "    </tr>\n",
       "  </tbody>\n",
       "</table>\n",
       "</div>"
      ],
      "text/plain": [
       "               salary_monthly_NETO                                     \\\n",
       "                             count          mean            std   min   \n",
       "profile_gender                                                          \n",
       "Hombre                      4944.0  98836.063558  102159.664237   1.0   \n",
       "Mujer                        908.0  73501.414465   56256.880181   2.0   \n",
       "Otros                         31.0  95441.354839   88635.674358  40.0   \n",
       "\n",
       "                                                       \n",
       "                    25%      50%       75%        max  \n",
       "profile_gender                                         \n",
       "Hombre          53285.0  80000.0  110000.0  2080000.0  \n",
       "Mujer           43818.0  65000.0   92000.0   800000.0  \n",
       "Otros           39500.0  74000.0  117500.0   380000.0  "
      ]
     },
     "execution_count": 4,
     "metadata": {},
     "output_type": "execute_result"
    }
   ],
   "source": [
    "df[['profile_gender', 'salary_monthly_NETO']].groupby('profile_gender').describe()"
   ]
  },
  {
   "cell_type": "code",
   "execution_count": 5,
   "metadata": {
    "colab": {
     "base_uri": "https://localhost:8080/",
     "height": 203
    },
    "id": "pycKJ5jWkShW",
    "outputId": "39835943-cb56-417f-cac7-d7068b0d12f9"
   },
   "outputs": [
    {
     "data": {
      "text/html": [
       "<div>\n",
       "<style scoped>\n",
       "    .dataframe tbody tr th:only-of-type {\n",
       "        vertical-align: middle;\n",
       "    }\n",
       "\n",
       "    .dataframe tbody tr th {\n",
       "        vertical-align: top;\n",
       "    }\n",
       "\n",
       "    .dataframe thead tr th {\n",
       "        text-align: left;\n",
       "    }\n",
       "\n",
       "    .dataframe thead tr:last-of-type th {\n",
       "        text-align: right;\n",
       "    }\n",
       "</style>\n",
       "<table border=\"1\" class=\"dataframe\">\n",
       "  <thead>\n",
       "    <tr>\n",
       "      <th></th>\n",
       "      <th colspan=\"8\" halign=\"left\">salary_monthly_NETO</th>\n",
       "    </tr>\n",
       "    <tr>\n",
       "      <th></th>\n",
       "      <th>count</th>\n",
       "      <th>mean</th>\n",
       "      <th>std</th>\n",
       "      <th>min</th>\n",
       "      <th>25%</th>\n",
       "      <th>50%</th>\n",
       "      <th>75%</th>\n",
       "      <th>max</th>\n",
       "    </tr>\n",
       "    <tr>\n",
       "      <th>profile_gender</th>\n",
       "      <th></th>\n",
       "      <th></th>\n",
       "      <th></th>\n",
       "      <th></th>\n",
       "      <th></th>\n",
       "      <th></th>\n",
       "      <th></th>\n",
       "      <th></th>\n",
       "    </tr>\n",
       "  </thead>\n",
       "  <tbody>\n",
       "    <tr>\n",
       "      <th>Hombre</th>\n",
       "      <td>4815.0</td>\n",
       "      <td>101481.624343</td>\n",
       "      <td>102215.304684</td>\n",
       "      <td>1100.0</td>\n",
       "      <td>55000.0</td>\n",
       "      <td>80000.0</td>\n",
       "      <td>110000.0</td>\n",
       "      <td>2080000.0</td>\n",
       "    </tr>\n",
       "    <tr>\n",
       "      <th>Mujer</th>\n",
       "      <td>863.0</td>\n",
       "      <td>77328.913778</td>\n",
       "      <td>55082.760570</td>\n",
       "      <td>2000.0</td>\n",
       "      <td>47850.0</td>\n",
       "      <td>67200.0</td>\n",
       "      <td>93000.0</td>\n",
       "      <td>800000.0</td>\n",
       "    </tr>\n",
       "    <tr>\n",
       "      <th>Otros</th>\n",
       "      <td>28.0</td>\n",
       "      <td>105660.714286</td>\n",
       "      <td>87235.710235</td>\n",
       "      <td>34000.0</td>\n",
       "      <td>43750.0</td>\n",
       "      <td>78900.0</td>\n",
       "      <td>122750.0</td>\n",
       "      <td>380000.0</td>\n",
       "    </tr>\n",
       "  </tbody>\n",
       "</table>\n",
       "</div>"
      ],
      "text/plain": [
       "               salary_monthly_NETO                                         \\\n",
       "                             count           mean            std      min   \n",
       "profile_gender                                                              \n",
       "Hombre                      4815.0  101481.624343  102215.304684   1100.0   \n",
       "Mujer                        863.0   77328.913778   55082.760570   2000.0   \n",
       "Otros                         28.0  105660.714286   87235.710235  34000.0   \n",
       "\n",
       "                                                       \n",
       "                    25%      50%       75%        max  \n",
       "profile_gender                                         \n",
       "Hombre          55000.0  80000.0  110000.0  2080000.0  \n",
       "Mujer           47850.0  67200.0   93000.0   800000.0  \n",
       "Otros           43750.0  78900.0  122750.0   380000.0  "
      ]
     },
     "execution_count": 5,
     "metadata": {},
     "output_type": "execute_result"
    }
   ],
   "source": [
    "df[df.salary_monthly_NETO > 1000]\\\n",
    "  [['profile_gender', 'salary_monthly_NETO']].groupby('profile_gender').describe()"
   ]
  },
  {
   "cell_type": "code",
   "execution_count": 6,
   "metadata": {
    "id": "uZ1GxkLylHx0"
   },
   "outputs": [],
   "source": [
    "alpha = 0.05"
   ]
  },
  {
   "cell_type": "code",
   "execution_count": 7,
   "metadata": {
    "id": "OfzFpDO-lYxk"
   },
   "outputs": [],
   "source": [
    "is_man = df.profile_gender == 'Hombre'\n",
    "\n",
    "groupA = df[(df.salary_monthly_NETO > 1000) & is_man].salary_monthly_NETO\n",
    "groupB = df[(df.salary_monthly_NETO > 1000) & ~is_man].salary_monthly_NETO #~ es la negacion del filtro, o sea los generos distintos a 'hombre'"
   ]
  },
  {
   "cell_type": "markdown",
   "metadata": {
    "id": "co_0M_ojtmUh"
   },
   "source": [
    "## Ejercicio 1: Estimación\n",
    "\n",
    "**Consigna:**  Calcular una estimación puntual y un intervalo de confianza de nivel (1-alpha) para la resta entre la media del salario Neto para Hombres menos la media del salario Neto para otros géneros(diferencia de las medias entre el grupoA y grupoB). \n",
    "¿Cómo se relaciona este intervalo de confianza con el test de hipótesis?"
   ]
  },
  {
   "cell_type": "code",
   "execution_count": 8,
   "metadata": {
    "id": "0fA1RQ0upe6N"
   },
   "outputs": [
    {
     "name": "stdout",
     "output_type": "stream",
     "text": [
      "La media del grupo de varones es  101481.62434267918\n",
      "La media del grupo de otros generos es  78219.25094276095\n",
      "La desviación estandar del grupo de varones es  102215.30468444877\n",
      "La desviación estandar del grupo de otros generos es  56515.32732350074\n",
      "El número de muestras del grupo de varones es  4815\n",
      "El número de muestras del grupo de otros generos es  891\n",
      "El error estandar del grupo de varones es  1473.0509950457006\n",
      "El error estandar del grupo de otros generos es  1893.3347033956811\n"
     ]
    }
   ],
   "source": [
    "media_A = groupA.mean()\n",
    "media_B = groupB.mean()\n",
    "std_A = groupA.std()\n",
    "std_B = groupB.std()\n",
    "N_a = len(groupA)\n",
    "N_b = len(groupB)\n",
    "error_std_A = std_A/math.sqrt(N_a)\n",
    "error_std_B = std_B/math.sqrt(N_b)\n",
    "print('La media del grupo de varones es ', media_A)\n",
    "print('La media del grupo de otros generos es ', media_B)\n",
    "print('La desviación estandar del grupo de varones es ', std_A)\n",
    "print('La desviación estandar del grupo de otros generos es ', std_B)\n",
    "print('El número de muestras del grupo de varones es ', N_a)\n",
    "print('El número de muestras del grupo de otros generos es ', N_b)\n",
    "print('El error estandar del grupo de varones es ', error_std_A)\n",
    "print('El error estandar del grupo de otros generos es ', error_std_B)"
   ]
  },
  {
   "cell_type": "markdown",
   "metadata": {},
   "source": [
    "Tenemos dos grupos con distintas desviaciones estandar, por lo que usamos el test de Welch "
   ]
  },
  {
   "cell_type": "code",
   "execution_count": 9,
   "metadata": {},
   "outputs": [
    {
     "name": "stdout",
     "output_type": "stream",
     "text": [
      "El estimador para la diferencia de medias es 23262.37339991823\n",
      "El estadistico de prueba para el test de Welch es  9.697205976350695\n",
      "El numero de grados de libertad de t-student para el test de Welch es 2148.0505828160885\n"
     ]
    }
   ],
   "source": [
    "est_dif_medias = media_A - media_B\n",
    "t = (media_A-media_B)/math.sqrt(error_std_A**2+error_std_B**2)\n",
    "nu = ((std_A**2/N_a + std_B**2/N_b)**2)/(std_A**4/(N_a**2*(N_a-1))+std_B**4/(N_b**2*(N_b-1)))\n",
    "print('El estimador para la diferencia de medias es', est_dif_medias)\n",
    "print('El estadistico de prueba para el test de Welch es ', t)\n",
    "print ('El numero de grados de libertad de t-student para el test de Welch es', nu)"
   ]
  },
  {
   "cell_type": "markdown",
   "metadata": {},
   "source": [
    "Con un numero de grados de libertad tan grande, la distribución de t-student ya es una normal, por lo que usamos este estadistico para una distribución normal. Ademas, incluso si quisiera utilizar t.student, no podria (al menos de esta forma \"manual\" en la que estoy calculando), ya que no hay valores de tabla para los $t_{\\nu,\\alpha}$ para valores tan grandes de $\\nu$. El valor de $t_{\\frac{\\alpha}{2},\\nu-1}\\sim z_{\\frac{\\alpha}{2}}$ para los valores $\\alpha=0.05$, $\\nu\\sim2148$ esta dado por $z_{\\frac{\\alpha}{2}} = 1.96$, por lo que el intervalo de confianza estará dado por \n",
    "$\\bar{X}-\\bar{Y}\\pm1.96\\sqrt(s_{\\bar{X_1}^2+s_{\\bar{X_2}}^2)$"
   ]
  },
  {
   "cell_type": "code",
   "execution_count": 10,
   "metadata": {},
   "outputs": [
    {
     "name": "stdout",
     "output_type": "stream",
     "text": [
      "El intervalo de confianza 1-alpha es ( 18560.5807418027 , 27964.16605803376 )\n"
     ]
    }
   ],
   "source": [
    "IC_min = est_dif_medias - 1.96*math.sqrt(error_std_A**2+error_std_B**2)\n",
    "IC_max = est_dif_medias + 1.96*math.sqrt(error_std_A**2+error_std_B**2)\n",
    "print('El intervalo de confianza 1-alpha es (',IC_min,',',IC_max,')')"
   ]
  },
  {
   "cell_type": "markdown",
   "metadata": {},
   "source": [
    "Este intervalo de confianza nos indica que de acuerdo a nuestra muestra, si la diferencia entre las medias de las distribuciones de salario es cero, entonces el estadístico de prueba caera dentro de este intervalo de confianza"
   ]
  },
  {
   "cell_type": "markdown",
   "metadata": {},
   "source": [
    "Voy a repetir los resultados que aca calcule manualmente utilizando scipy.stats para hacer el test de Welch."
   ]
  },
  {
   "cell_type": "code",
   "execution_count": 11,
   "metadata": {},
   "outputs": [
    {
     "data": {
      "text/plain": [
       "Ttest_indResult(statistic=9.697205976350673, pvalue=4.302598661066604e-22)"
      ]
     },
     "execution_count": 11,
     "metadata": {},
     "output_type": "execute_result"
    }
   ],
   "source": [
    "sp.stats.ttest_ind(groupA, groupB, equal_var=False, nan_policy='propagate', permutations=None, random_state=None, alternative='greater', trim=0)"
   ]
  },
  {
   "cell_type": "markdown",
   "metadata": {
    "id": "IFi2T7Y6nM92"
   },
   "source": [
    "## Ejercicio 2: Test de hipótesis\n"
   ]
  },
  {
   "cell_type": "markdown",
   "metadata": {
    "id": "Rzxe8UYU6EfJ"
   },
   "source": [
    "\n",
    "### 2.1 Formalización\n",
    "\n",
    "Describir formalmente los distintos componentes de un test de hipótesis para comprobar si la distribución de los salarios es distinta entre los grupos A y B.\n",
    "\n",
    "**Hipótesis Nula**\n",
    "\n",
    "$H_0=...$\n",
    "\n",
    "**Estadístico (Pivote)**\n",
    "  * Identificar el estadístico\n",
    "  * Escribir qué distribución tiene bajo $H_0$\n"
   ]
  },
  {
   "cell_type": "markdown",
   "metadata": {},
   "source": [
    "Nuestra hipótesis nula sera que la diferencia de medias entre ambos grupos es cero, es decir $H_0:\\mu_A-\\mu_B=0$, y la hipótesis alternativa sera que $H_a:\\mu_A-\\mu_B>0$. Nuestro estadístico de prueba (pivote) estará dado por $$T=\\frac{\\bar{A}-\\bar{Y}}{sqrt{s_{\\bar{X}^2+s_{\\bar{Y}^2}}}$$, que tiene distribución normal con media $\\mu=0$ y desviación estandar $\\sigma^2=1$ bajo $H_0$ (aca tengo dudaassss)"
   ]
  },
  {
   "cell_type": "markdown",
   "metadata": {
    "id": "3Ip_5YdenC8u"
   },
   "source": [
    "### 2.2 P-valor\n",
    "\n",
    "1. Calcule el p-valor y decida si rechazar o no la hipótesis nula.\n",
    "2. Interprete el resultado.\n",
    "\n",
    "Links útiles:\n",
    "* [Test de hipótesis usando scipy](https://docs.scipy.org/doc/scipy/reference/generated/scipy.stats.ttest_ind.html)\n",
    "* [Test de Welch](http://daniellakens.blogspot.com/2015/01/always-use-welchs-t-test-instead-of.html)"
   ]
  },
  {
   "cell_type": "markdown",
   "metadata": {},
   "source": [
    "El estadístico de prueba, calculado arriba, dio un valor de 9.697. No entendi que es el p-valor, pero otra forma de rechazar o no la hipótesis nula es calculando la region de rechazo para nuestra hipótesis. En nuestro caso, si nuestra hipotesis alternativa es la arriba mencionada, la región de rechazo estará dada por $RR=\\{t\\geq\\:z_{\\alpha}\\}$. Buscando valores de tabla, $z_{\\alpha} = 1.64$, por lo que nuestra región de rechazo será $RR=\\{t\\geq\\:1.64\\}$. Dado que el estadístico de prueba t es mayor que 1.96, cae en la región de rechazo, por lo que se favorece la hipótesis alternativa y se rechaza la hipótesis nula. Podemos concluir entonces que, de acuerdo a nuestra muestra, $\\mu_A>\\mu_B$, o sea que la media de los salarios de los varones es mayor que la media de los salarios para otros géneros. "
   ]
  },
  {
   "cell_type": "markdown",
   "metadata": {},
   "source": [
    "Otra forma de hacerlo, esta vez utilizando el p-valor que no supe como calcular, es utilizando scipy, que arroja el p-valor. Para un nivel de confianza $\\alpha$, el p-valor se define como la probabilidad de obtener resultados al menos tan improbables o \"extremos\" como los observados en la muestra que tenemos, suponiendo que la hipótesis nula sea verdadera. Es decir, si tenemos una muestra de datos con un p-valor de 0,1, eso quiere decir que la probabilidad de haber obtenido los datos que tuvimos, siendo verdadera la hipótesis nula, es del 10%. Si anteriormente nos habiamos fijado una tolerancia o confianza de $\\alpha=0.05$ o sea una tolerancia del 5%, eso quiere decir que nuestros datos son consistentes con la hipótesis nula y que esta no debe rechazarse en favor de la alternativa. En cambio, si por ejemplo tenemos un p-valor de 0.01, o sea un 1% de probabilidades de haber obtenido nuestros dados, debemos rechazar la hipótesis nula, ya que el p-valor esta por debajo de nuestra tolerancia. En resumen, si tenemos un nivel de confianza $\\alpha$, la hipótesis nula no debe rechazarse si $\\alpha$ es menor al p-valor; si por el contrario se da que $\\alpha$ es mayor al p-valor, la hipótesis nula debe rechazarse en favor de la hipótesis alternativa. \n",
    "\n",
    "Calculemos el p-valor utilizando scipy. "
   ]
  },
  {
   "cell_type": "code",
   "execution_count": 12,
   "metadata": {},
   "outputs": [
    {
     "data": {
      "text/plain": [
       "Ttest_indResult(statistic=9.697205976350673, pvalue=4.302598661066604e-22)"
      ]
     },
     "execution_count": 12,
     "metadata": {},
     "output_type": "execute_result"
    }
   ],
   "source": [
    "sp.stats.ttest_ind(groupA, groupB, equal_var=False, nan_policy='propagate', permutations=None, random_state=None, alternative='greater', trim=0)"
   ]
  },
  {
   "cell_type": "markdown",
   "metadata": {},
   "source": [
    "Observamos que nuestro p valor es $4.3\\times10^{-22}$, es decir si las medias de los salarios de varones y otros géneros fueran iguales, los resultados que se obtuvieron en la encuesta se hubiesen obtenido con una probabilidad del $4.3\\times10^{-22}$ (increiblemente baja!). Como nuestro $\\alpha=0.05$, $\\alpha$ es mayor (por veinte ordenes de magnitud) al p-valor, con lo cual se rechaza la hipótesis nula en favor de la alternativa, que es que los salarios del grupo A (varones) tienen una media mas alta que los del grupo B (otros generos). (Observemos que le pedimos a scipy que nuestra hipótesis alternativa sea esa cuando le ponemos alternative='greater', asi no solo sabemos que ambas medias son diferentes sino que se cumple, como esperado, que la media de salarios para varones es mayor)."
   ]
  },
  {
   "cell_type": "markdown",
   "metadata": {
    "id": "8VxiQr5YrQYR"
   },
   "source": [
    "### [Opcional] 2.3 Potencia del test\n",
    "\n",
    "Nuestra muestra, ¿era lo suficientemente grande para detectar si existe o no una diferencia entre los grupos?\n",
    "\n",
    "1. Utilice la función `tt_ind_solve_power` para calcular el tamaño necesario de la muestra para un poder estadístico de 0.8, 0.9 y 0.95, asumiendo una significancia estadística de 0.05.\n",
    "2. ¿Cómo intepretan el poder estadístico de un test? Dado su conocimiento de dominio sobre los datos, ¿les parece que esta muestra es lo suficientemente grande para ser representativo de la tendencia general? ¿y para utilizarlo en un juicio penal contra una empresa XX por una causa de discriminación?\n",
    "\n",
    "[Documentación](https://www.statsmodels.org/stable/generated/statsmodels.stats.power.tt_ind_solve_power.html)\n",
    "\n",
    "NOTA: este análisis debería hacerse ANTES de recolectar los datos."
   ]
  },
  {
   "cell_type": "code",
   "execution_count": 13,
   "metadata": {
    "colab": {
     "base_uri": "https://localhost:8080/"
    },
    "id": "_IiqGfo4t6Db",
    "outputId": "30acabed-46e2-476d-ec27-fec5823af98c"
   },
   "outputs": [],
   "source": [
    "from statsmodels.stats.power import tt_ind_solve_power"
   ]
  },
  {
   "cell_type": "code",
   "execution_count": 14,
   "metadata": {
    "id": "LUQ7MA2Apj9x"
   },
   "outputs": [],
   "source": [
    "effect_size = (groupA.mean() - groupB.mean()) / groupB.std()\n",
    "# nobs1=None  - What we want to know\n",
    "alpha = 0.05\n",
    "ratio = len(groupB) / len(groupA)"
   ]
  },
  {
   "cell_type": "code",
   "execution_count": 15,
   "metadata": {
    "colab": {
     "base_uri": "https://localhost:8080/"
    },
    "id": "cvHcpY-3ty8Q",
    "outputId": "52cc1464-e94b-45df-9610-0592399001b9"
   },
   "outputs": [
    {
     "ename": "NameError",
     "evalue": "name 'power' is not defined",
     "output_type": "error",
     "traceback": [
      "\u001b[0;31m---------------------------------------------------------------------------\u001b[0m",
      "\u001b[0;31mNameError\u001b[0m                                 Traceback (most recent call last)",
      "Input \u001b[0;32mIn [15]\u001b[0m, in \u001b[0;36m<cell line: 1>\u001b[0;34m()\u001b[0m\n\u001b[0;32m----> 1\u001b[0m tt_ind_solve_power(effect_size\u001b[38;5;241m=\u001b[39meffect_size, alpha\u001b[38;5;241m=\u001b[39malpha, power\u001b[38;5;241m=\u001b[39m\u001b[43mpower\u001b[49m, ratio\u001b[38;5;241m=\u001b[39mratio)\n",
      "\u001b[0;31mNameError\u001b[0m: name 'power' is not defined"
     ]
    }
   ],
   "source": [
    "tt_ind_solve_power(effect_size=effect_size, alpha=alpha, power=power, ratio=ratio)"
   ]
  },
  {
   "cell_type": "markdown",
   "metadata": {
    "id": "useKMdPyMod5"
   },
   "source": [
    "## Ejercicio 3: Comunicación y visualización\n",
    "\n",
    "**Consigna:** Seleccionen un resultado que les parezca relevante a partir de alguno de los ejercicios del entregable. Diseñe e implemente una comunicación en base a este mensaje, en un archivo PDF.\n",
    "\n",
    "Elija las palabras y visualización más adecuada para que la comunicación sea entendible, efectiva y se dapte a UNA de las siguientes situaciones:\n",
    "\n",
    "1. Una sección en un artículo de difusión a presentar como parte de una organización sin fines de lucro.\n",
    "No más de 1 página A4 (o dos si los gráficos son muy grandes).\n",
    "  1. Ejemplo: Alguna de las secciones [Los ecosistemas de emprendimiento de América Latina y el Caribe frente al COVID-19: Impactos, necesidades y recomendaciones](https://publications.iadb.org/es/los-ecosistemas-de-emprendimiento-de-america-latina-y-el-caribe-frente-al-covid-19-impactos-necesidades-y-recomendaciones), por ejemplo la sección *2.2. Reacciones de los emprendedores*.\n",
    "  2. Ejemplo: Alguna de las secciones de [The state of gender pay gap in 2021](https://www.payscale.com/data/gender-pay-gap?tk=carousel-ps-rc-job)\n",
    "  3. Puntos clave: \n",
    "    1. Simpleza de los gráficos.\n",
    "    2. Comunicación en lenguaje simple a personas que no son necesariamente expertos de dominio.\n",
    "    2. Selección de UNA oración sobre la que se hace énfasis.\n",
    "    3. No es necesario que mencionen objetivos ni descripciones del conjunto de datos, se supone que eso ya estaría explicado en otras secciones del informe.\n",
    "\n",
    "2. Una publicación científica o reporte técnico interno. No más de una página A4:\n",
    "  2. Ejemplo: La sección de resultados de [IZA DP No. 12914: The Impact of a Minimum Wage Change on the Distribution of Wages and Household Income](https://www.iza.org/publications/dp/12914/the-impact-of-a-minimum-wage-change-on-the-distribution-of-wages-and-household-income).\n",
    "  2. Ejemplo: Alguna de las secciones de [Temporary reduction in daily global CO2 emissions during the COVID-19 forced confinement](https://www.nature.com/articles/s41558-020-0797-x)\n",
    "  3. Puntos clave:\n",
    "    3. Nivel de detalle técnico requerido. Es necesario justificar la validez del análisis.\n",
    "    4. La idea presentada puede ser más compleja. Pueden asumir que la audiencia tiene conocimiento técnico y va a analizar las visualizaciones en detalle. \n",
    "    5. Pueden presentar más en detalle las limitaciones del análisis (significancia estadística, etc.)\n",
    "    2. No es necesario que mencionen objetivos ni descripciones del conjunto de datos, se supone que eso ya estaría explicado en otras secciones del informe.\n",
    "\n",
    "3. Un tweet (o post de LinkedIn) para la cuenta de su empresa consultora que hace análisis de datos. El objetivo es promocionar un análisis de datos abiertos que van a incluir en su portfolio:\n",
    "  1. Ejemplo: [Comparación vacunas covid](https://twitter.com/infobeautiful/status/1381577746527236098?s=20)\n",
    "  2. Ejemplo: [Tweet del BID](https://twitter.com/el_BID/status/1388508583944507396?s=20). Lo valioso de este tweet es que usaron un único número para transmitir un mensaje. Puede ser algo así, o con un gráfico muy simple.\n",
    "  3. Ejemplo: [Cambio climático](https://twitter.com/UNFCCC/status/1387732156190011394?s=20) Es un muy buen ejemplo, excepto que el gráfico no se lee nada y hay que entrar a la publicación original.\n",
    "  3. Ejemplo: [¿Cuánto están los programadores en las empresas?](https://www.linkedin.com/posts/denis-rothman-0b034043_tech-career-work-activity-6793861923269054464-gS6y) (No verificamos la veracidad o seriedad de la fuente).\n",
    "  4. Puntos clave:\n",
    "    1. Su audiencia no va a mirar la visualización por más de unos segundos, y no tiene conocimiento técnico.\n",
    "  3. Tienen que incluir además una *breve* descripción de cómo obtuvieron los datos que están presentando, que no entraría en el tweet.\n"
   ]
  }
 ],
 "metadata": {
  "kernelspec": {
   "display_name": "Python 3 (ipykernel)",
   "language": "python",
   "name": "python3"
  },
  "language_info": {
   "codemirror_mode": {
    "name": "ipython",
    "version": 3
   },
   "file_extension": ".py",
   "mimetype": "text/x-python",
   "name": "python",
   "nbconvert_exporter": "python",
   "pygments_lexer": "ipython3",
   "version": "3.8.8"
  }
 },
 "nbformat": 4,
 "nbformat_minor": 4
}
